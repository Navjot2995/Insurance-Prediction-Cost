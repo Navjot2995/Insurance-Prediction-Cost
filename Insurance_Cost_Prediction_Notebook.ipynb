{
 "cells": [
  {
   "cell_type": "markdown",
   "id": "d6135b34",
   "metadata": {},
   "source": [
    "# Insurance Cost Prediction Project\n",
    "This notebook includes data cleaning, EDA, model training, and feature importance for predicting insurance cost using health and lifestyle data."
   ]
  },
  {
   "cell_type": "code",
   "execution_count": null,
   "id": "e5227404",
   "metadata": {},
   "outputs": [],
   "source": [
    "import pandas as pd\n",
    "import numpy as np\n",
    "import matplotlib.pyplot as plt\n",
    "import seaborn as sns\n",
    "\n",
    "from sklearn.model_selection import train_test_split\n",
    "from sklearn.preprocessing import LabelEncoder\n",
    "from sklearn.linear_model import LinearRegression\n",
    "from sklearn.ensemble import RandomForestRegressor\n",
    "from sklearn.metrics import mean_absolute_error, mean_squared_error, r2_score\n",
    "import xgboost as xgb"
   ]
  },
  {
   "cell_type": "code",
   "execution_count": null,
   "id": "325832ca",
   "metadata": {},
   "outputs": [],
   "source": [
    "df = pd.read_csv(\"Data.csv\")\n",
    "df.head()"
   ]
  },
  {
   "cell_type": "code",
   "execution_count": null,
   "id": "7126e8a0",
   "metadata": {},
   "outputs": [],
   "source": [
    "df.drop(\"applicant_id\", axis=1, inplace=True)\n",
    "df[\"bmi\"].fillna(df[\"bmi\"].median(), inplace=True)\n",
    "df[\"Year_last_admitted\"] = df[\"Year_last_admitted\"].fillna(\"Never\")\n",
    "df[\"Year_last_admitted\"] = df[\"Year_last_admitted\"].apply(lambda x: 2025 - int(x) if x != \"Never\" else 0)\n",
    "\n",
    "def parse_cholesterol(value):\n",
    "    try:\n",
    "        low, high = value.split(\" to \")\n",
    "        return (int(low) + int(high)) // 2\n",
    "    except:\n",
    "        return np.nan\n",
    "\n",
    "df[\"cholesterol_level\"] = df[\"cholesterol_level\"].apply(parse_cholesterol)\n",
    "df[\"cholesterol_level\"].fillna(df[\"cholesterol_level\"].median(), inplace=True)\n",
    "\n",
    "binary_cols = {\n",
    "    \"Gender\": {\"Male\": 1, \"Female\": 0},\n",
    "    \"covered_by_any_other_company\": {\"Y\": 1, \"N\": 0},\n",
    "    \"Alcohol\": {\"No\": 0, \"Rare\": 1, \"Daily\": 2},\n",
    "    \"exercise\": {\"No\": 0, \"Moderate\": 1, \"Extreme\": 2},\n",
    "}\n",
    "for col, mapping in binary_cols.items():\n",
    "    df[col] = df[col].map(mapping)\n",
    "\n",
    "le = LabelEncoder()\n",
    "df[\"smoking_status\"] = le.fit_transform(df[\"smoking_status\"])\n",
    "\n",
    "df = pd.get_dummies(df, columns=[\"Occupation\", \"Location\"], drop_first=True)\n",
    "df.head()"
   ]
  },
  {
   "cell_type": "code",
   "execution_count": null,
   "id": "5d777e38",
   "metadata": {},
   "outputs": [],
   "source": [
    "corr_matrix = df.corr()\n",
    "top_corr_features = corr_matrix[\"insurance_cost\"].abs().sort_values(ascending=False).head(10).index\n",
    "plt.figure(figsize=(10, 8))\n",
    "sns.heatmap(df[top_corr_features].corr(), annot=True, cmap=\"coolwarm\")\n",
    "plt.title(\"Top 10 Feature Correlations with Insurance Cost\")\n",
    "plt.tight_layout()\n",
    "plt.show()"
   ]
  },
  {
   "cell_type": "code",
   "execution_count": null,
   "id": "8dab4f9c",
   "metadata": {},
   "outputs": [],
   "source": [
    "X = df.drop(\"insurance_cost\", axis=1)\n",
    "y = df[\"insurance_cost\"]\n",
    "X_train, X_test, y_train, y_test = train_test_split(X, y, test_size=0.2, random_state=42)\n",
    "\n",
    "models = {\n",
    "    \"Linear Regression\": LinearRegression(),\n",
    "    \"Random Forest\": RandomForestRegressor(n_estimators=100, random_state=42),\n",
    "    \"XGBoost\": xgb.XGBRegressor(random_state=42)\n",
    "}\n",
    "\n",
    "for name, model in models.items():\n",
    "    model.fit(X_train, y_train)\n",
    "    preds = model.predict(X_test)\n",
    "    mae = mean_absolute_error(y_test, preds)\n",
    "    rmse = np.sqrt(mean_squared_error(y_test, preds))\n",
    "    r2 = r2_score(y_test, preds)\n",
    "    print(f\"{name}\\nMAE: {mae:.2f} | RMSE: {rmse:.2f} | R2: {r2:.4f}\\n\")"
   ]
  },
  {
   "cell_type": "code",
   "execution_count": null,
   "id": "36dcec20",
   "metadata": {},
   "outputs": [],
   "source": [
    "rf_model = models[\"Random Forest\"]\n",
    "importances = rf_model.feature_importances_\n",
    "feat_imp = pd.Series(importances, index=X.columns).sort_values(ascending=False)[:20]\n",
    "plt.figure(figsize=(10, 8))\n",
    "feat_imp.plot(kind='barh')\n",
    "plt.title(\"Top 20 Feature Importances - Random Forest\")\n",
    "plt.gca().invert_yaxis()\n",
    "plt.show()"
   ]
  },
  {
   "cell_type": "markdown",
   "id": "2561b974",
   "metadata": {},
   "source": [
    "### SHAP Explanations (Optional - Run Locally)\n",
    "To run SHAP locally, install SHAP and run the following code:\n",
    "```python\n",
    "import shap\n",
    "explainer = shap.Explainer(rf_model, X_train.sample(500))\n",
    "shap_values = explainer(X_train.sample(500))\n",
    "shap.summary_plot(shap_values, X_train.sample(500))\n",
    "```"
   ]
  }
 ],
 "metadata": {},
 "nbformat": 4,
 "nbformat_minor": 5
}